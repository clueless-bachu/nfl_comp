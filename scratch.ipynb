{
 "cells": [
  {
   "cell_type": "code",
   "execution_count": null,
   "metadata": {},
   "outputs": [],
   "source": [
    "from torch import nn\n",
    "import torch\n",
    "from torch.autograd import Variable"
   ]
  },
  {
   "cell_type": "code",
   "execution_count": null,
   "metadata": {},
   "outputs": [],
   "source": [
    "class MCC_Loss(nn.Module):\n",
    "    \"\"\"\n",
    "    Calculates the proposed Matthews Correlation Coefficient-based loss.\n",
    "    Args:\n",
    "        inputs (torch.Tensor): 1-hot encoded predictions\n",
    "        targets (torch.Tensor): 1-hot encoded ground truth\n",
    "    \"\"\"\n",
    "\n",
    "    def __init__(self):\n",
    "        super(MCC_Loss, self).__init__()\n",
    "\n",
    "    def forward(self, inputs, targets):\n",
    "        \"\"\"\n",
    "        MCC = (TP.TN - FP.FN) / sqrt((TP+FP) . (TP+FN) . (TN+FP) . (TN+FN))\n",
    "        where TP, TN, FP, and FN are elements in the confusion matrix.\n",
    "        \"\"\"\n",
    "        tp = torch.sum(torch.mul(inputs, targets))\n",
    "        tn = torch.sum(torch.mul((1 - inputs), (1 - targets)))\n",
    "        fp = torch.sum(torch.mul(inputs, (1 - targets)))\n",
    "        fn = torch.sum(torch.mul((1 - inputs), targets))\n",
    "\n",
    "        numerator = torch.mul(tp, tn) - torch.mul(fp, fn)\n",
    "        denominator = torch.sqrt(\n",
    "            torch.add(tp, 1, fp)\n",
    "            * torch.add(tp, 1, fn)\n",
    "            * torch.add(tn, 1, fp)\n",
    "            * torch.add(tn, 1, fn)\n",
    "        )\n",
    "        print(\"numerator\", numerator)\n",
    "        print(\"denominator\", denominator)\n",
    "\n",
    "        # Adding 1 to the denominator to avoid divide-by-zero errors.\n",
    "        mcc = torch.div(numerator.sum(), denominator.sum() + 1.0)\n",
    "        print(\"mcc\", mcc)\n",
    "        return 1 - mcc"
   ]
  },
  {
   "cell_type": "code",
   "execution_count": null,
   "metadata": {},
   "outputs": [],
   "source": [
    "y = torch.tensor([1.,0.,1.,0.,1.,0.,1.,0.])\n",
    "y_pred = torch.tensor([1.,1.,1.,1.,0.,0.,0.,0.])"
   ]
  },
  {
   "cell_type": "code",
   "execution_count": null,
   "metadata": {},
   "outputs": [],
   "source": [
    "criterion = nn.BCELoss()"
   ]
  },
  {
   "cell_type": "code",
   "execution_count": null,
   "metadata": {},
   "outputs": [],
   "source": [
    "loss = criterion(y_pred, y)"
   ]
  },
  {
   "cell_type": "code",
   "execution_count": null,
   "metadata": {},
   "outputs": [],
   "source": [
    "loss"
   ]
  },
  {
   "cell_type": "code",
   "execution_count": null,
   "metadata": {},
   "outputs": [],
   "source": [
    "loss.backward()"
   ]
  },
  {
   "cell_type": "code",
   "execution_count": null,
   "metadata": {},
   "outputs": [],
   "source": []
  }
 ],
 "metadata": {
  "kernelspec": {
   "display_name": "nfl_comp",
   "language": "python",
   "name": "python3"
  },
  "language_info": {
   "codemirror_mode": {
    "name": "ipython",
    "version": 3
   },
   "file_extension": ".py",
   "mimetype": "text/x-python",
   "name": "python",
   "nbconvert_exporter": "python",
   "pygments_lexer": "ipython3",
   "version": "3.9.16"
  },
  "orig_nbformat": 4,
  "vscode": {
   "interpreter": {
    "hash": "5e0971b6e4c6e31323d9ee278a729b5ea8905a211b067f5c5125d28ccbdd03cb"
   }
  }
 },
 "nbformat": 4,
 "nbformat_minor": 2
}
